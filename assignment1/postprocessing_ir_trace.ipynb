{
  "nbformat": 4,
  "nbformat_minor": 0,
  "metadata": {
    "colab": {
      "name": "postprocessing_ir_trace.ipynb",
      "provenance": [],
      "collapsed_sections": []
    },
    "kernelspec": {
      "name": "python3",
      "display_name": "Python 3"
    },
    "language_info": {
      "name": "python"
    }
  },
  "cells": [
    {
      "cell_type": "markdown",
      "source": [
        "Install Dependencies"
      ],
      "metadata": {
        "id": "lBZYplkA9qpb"
      }
    },
    {
      "cell_type": "code",
      "source": [
        "!pip install rocketlogger\n",
        "!pip install pandas\n",
        "!pip install matplotlib"
      ],
      "metadata": {
        "id": "GXaRLORZ2djH"
      },
      "execution_count": null,
      "outputs": []
    },
    {
      "cell_type": "markdown",
      "source": [
        "Import dependencies and load data"
      ],
      "metadata": {
        "id": "AuhZt_ux9xAp"
      }
    },
    {
      "cell_type": "code",
      "execution_count": null,
      "metadata": {
        "id": "OedSmwXb2Xj8"
      },
      "outputs": [],
      "source": [
        "import numpy as np\n",
        "import pandas as pd\n",
        "import matplotlib.pyplot as plt\n",
        "from matplotlib import rc\n",
        "import os\n",
        "from numpy import linalg as LA\n",
        "from rocketlogger.data import RocketLoggerData"
      ]
    },
    {
      "cell_type": "code",
      "source": [
        "from google.colab import drive\n",
        "drive.mount('/content/drive')"
      ],
      "metadata": {
        "id": "HhjIkgzA2_zF"
      },
      "execution_count": null,
      "outputs": []
    },
    {
      "cell_type": "code",
      "source": [
        "# # Configuration\n",
        "# Export figure settings\n",
        "plt.rcParams['pdf.fonttype'] = 42\n",
        "plt.rcParams['ps.fonttype'] = 42\n",
        "plt.rcParams['ps.useafm'] = True\n",
        "\n",
        "# constants\n",
        "LPM_CURRENT_THRESHOLD = 150e-6 # ampere\n",
        "TRIM_START = 1.0 # seconds\n",
        "TRIM_END = 1.0 # seconds\n",
        "    \n",
        "# input folder\n",
        "input_folder = os.path.join('./')\n",
        "\n",
        "# input files -- update path \n",
        "measurement_file = '/sample_data/button_press.rld'\n",
        "\n",
        "# Load data\n",
        "data = RocketLoggerData(os.path.join(input_folder, measurement_file))\n",
        "data = data.merge_channels(True)\n",
        "data_sample_rate = int(data._header['sample_rate'])\n",
        "data_comment = data.get_comment()"
      ],
      "metadata": {
        "id": "mJS-xfaS23nJ"
      },
      "execution_count": null,
      "outputs": []
    },
    {
      "cell_type": "code",
      "source": [
        "# RAW DATA\n",
        "I_app = data.get_data('I1').squeeze()[int(TRIM_START*data_sample_rate):-int(TRIM_END*data_sample_rate)]\n",
        "V_app = data.get_data('V1').squeeze()[int(TRIM_START*data_sample_rate):-int(TRIM_END*data_sample_rate)]\n",
        "\n",
        "print(\"Average supply voltage:  {:1.2f} V \".format(np.mean(V_app)))"
      ],
      "metadata": {
        "id": "ilrw9cIJ3PZW"
      },
      "execution_count": null,
      "outputs": []
    },
    {
      "cell_type": "markdown",
      "source": [
        "Extract application states"
      ],
      "metadata": {
        "id": "fL1ZWUPy-f2T"
      }
    },
    {
      "cell_type": "code",
      "source": [
        "# TIME\n",
        "t_app = data.get_time()[int(TRIM_START*data_sample_rate):-int(TRIM_END*data_sample_rate)]\n",
        "t_app = t_app - t_app[0]\n",
        "dt_app = np.hstack([np.diff(t_app), 0])\n",
        "\n",
        "# POWER \n",
        "P_app = 1 * V_app * I_app\n",
        "# extract active periods when a button was pressed\n",
        "app_active_window = (I_app) > LPM_CURRENT_THRESHOLD\n",
        "\n",
        "# Determine the start and end of button presses based on the current threshold\n",
        "# app refers to transmitting IR packets when a button is being pressed, which is the energy-intensive task.\n",
        "app_start = np.diff(np.hstack([[0], app_active_window])) > 0\n",
        "app_start_index = np.nonzero(app_start)[0]\n",
        "num_start = len(app_start_index)\n",
        "# extract the end of button press\n",
        "app_end = np.diff(np.hstack([[0], app_active_window])) < 0\n",
        "app_end_index = np.nonzero(app_end)[0]\n",
        "num_end = len(app_end_index)\n",
        "\n",
        "print('Num. button press starts recognized: ', num_start)\n",
        "print('Num. button press ends recognized: ', num_end)"
      ],
      "metadata": {
        "id": "3awYs_jm3XC7"
      },
      "execution_count": null,
      "outputs": []
    },
    {
      "cell_type": "code",
      "source": [
        "# plot the power trace and the calculated app state\n",
        "fig, ax1 = plt.subplots()\n",
        "lns1 = ax1.plot(t_app,P_app, label='Power Trace', color=\"blue\")\n",
        "plt.xlabel('time [s]')\n",
        "plt.ylabel('Power [W]')\n",
        "# second y axis\n",
        "ax2 = ax1.twinx()\n",
        "lns2 = ax2.plot(t_app,app_active_window, label='App state', color=\"orange\")\n",
        "ax2.set_ylabel('State')\n",
        "ax2.set_yticks([0, 1])\n",
        "ax2.set_yticklabels( [\"sleep\", \"transmitting IR\"])\n",
        "# add legends for both lines\n",
        "lns = lns1+lns2\n",
        "labs = [l.get_label() for l in lns]\n",
        "ax1.legend(lns, labs)\n",
        "plt.tight_layout()\n",
        "plt.savefig(\"power_overview.png\", bbox_inches=\"tight\")\n",
        "\n",
        "# Plot the app start and app end \n",
        "plt.figure()\n",
        "plt.plot(t_app,app_start, label='Button Press Start')\n",
        "plt.plot(t_app,app_end, label='Button Press End')\n",
        "plt.xlabel('time [s]')\n",
        "plt.ylabel('State')\n",
        "plt.yticks([0, 1], [\"sleep\", \"transmitting IR\"])\n",
        "plt.legend()\n",
        "plt.tight_layout()\n",
        "plt.savefig(\"state_overview.png\", bbox_inches=\"tight\")\n",
        "\n",
        "# Print one button press in detail\n",
        "detail_range = range(179734,181092)\n",
        "plt.figure()\n",
        "_ = plt.plot(1e3 * (t_app[detail_range] - t_app[detail_range].min()), 1e3 * P_app[detail_range], label='Power Trace') \n",
        "_ = plt.xlabel('time [ms]')\n",
        "_ = plt.ylabel('power [mW]')\n",
        "plt.tight_layout()\n",
        "plt.savefig(\"button_press_closeup.png\", bbox_inches=\"tight\")\n",
        "plt.show()"
      ],
      "metadata": {
        "id": "ZDkvYzWk3bcL"
      },
      "execution_count": null,
      "outputs": []
    },
    {
      "cell_type": "code",
      "source": [
        "# calculate app active windows\n",
        "app_active = np.zeros_like(app_start, dtype=bool)\n",
        "app_active_index = np.zeros([num_start, 2], dtype=int)\n",
        "\n",
        "for t in range(num_start):\n",
        "    idx_start = app_start_index[t]\n",
        "    idx_end = app_end_index[t]\n",
        "\n",
        "    print(\"{}th IR transmission time: {:1.3f} s\".format(t+1, t_app[idx_end]-t_app[idx_start]))"
      ],
      "metadata": {
        "id": "ny6f1J-p3s6w"
      },
      "execution_count": null,
      "outputs": []
    },
    {
      "cell_type": "markdown",
      "source": [
        "Energy and time statistics"
      ],
      "metadata": {
        "id": "lfrmP_l9-6dZ"
      }
    },
    {
      "cell_type": "code",
      "source": [
        "# TODO: Calculate the energy consumed by each button press\n"
      ],
      "metadata": {
        "id": "5AIpEzgG3w-t"
      },
      "execution_count": null,
      "outputs": []
    },
    {
      "cell_type": "code",
      "source": [
        "# TODO: Calculate the power consumption while no button is pressed"
      ],
      "metadata": {
        "id": "Jvw3Cak34BGY"
      },
      "execution_count": null,
      "outputs": []
    }
  ]
}